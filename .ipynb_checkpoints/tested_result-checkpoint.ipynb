{
 "cells": [
  {
   "cell_type": "code",
   "execution_count": 7,
   "id": "99941cdc",
   "metadata": {},
   "outputs": [
    {
     "name": "stdout",
     "output_type": "stream",
     "text": [
      "Found 16726 images belonging to 2 classes.\n",
      "523/523 [==============================] - 1337s 3s/step\n",
      "Classification Report:\n",
      "               precision    recall  f1-score   support\n",
      "\n",
      "           B       0.94      0.21      0.35      8363\n",
      "           N       0.56      0.99      0.71      8363\n",
      "\n",
      "    accuracy                           0.60     16726\n",
      "   macro avg       0.75      0.60      0.53     16726\n",
      "weighted avg       0.75      0.60      0.53     16726\n",
      "\n",
      "Confusion Matrix:\n",
      " [[1785 6578]\n",
      " [ 109 8254]]\n"
     ]
    }
   ],
   "source": [
    "import numpy as np\n",
    "import tensorflow as tf\n",
    "from tensorflow.keras.preprocessing.image import ImageDataGenerator\n",
    "from sklearn.metrics import classification_report, confusion_matrix\n",
    "\n",
    "# Define paths for test data and the saved model\n",
    "test_data_dir = 'C:/Users/joelb/OneDrive/Desktop/newproj/TEST'\n",
    "saved_model_path = 'C:/Users/joelb/OneDrive/Desktop/newproj/new/model/vgg16_model.h5'\n",
    "\n",
    "# Define the image size, batch size, and number of classes\n",
    "img_width, img_height = 224, 224\n",
    "batch_size = 32\n",
    "num_classes = 2\n",
    "\n",
    "# Create an instance of the ImageDataGenerator for test data\n",
    "test_datagen = ImageDataGenerator(rescale=1./255)\n",
    "\n",
    "# Load the test data using the ImageDataGenerator\n",
    "test_generator = test_datagen.flow_from_directory(\n",
    "    directory=test_data_dir,\n",
    "    target_size=(img_width, img_height),\n",
    "    batch_size=batch_size,\n",
    "    class_mode='categorical',\n",
    "    shuffle=False\n",
    ")\n",
    "\n",
    "# Load the saved model\n",
    "model = tf.keras.models.load_model(saved_model_path)\n",
    "\n",
    "# Make predictions on the test data\n",
    "predictions = model.predict(test_generator)\n",
    "\n",
    "# Convert predictions from probabilities to class labels\n",
    "y_pred = np.argmax(predictions, axis=1)\n",
    "\n",
    "# Get the true class labels for the test data\n",
    "y_true = test_generator.classes\n",
    "\n",
    "# Get the class labels\n",
    "class_labels = list(test_generator.class_indices.keys())\n",
    "\n",
    "# Print classification report and confusion matrix\n",
    "print('Classification Report:\\n', classification_report(y_true, y_pred, target_names=class_labels))\n",
    "print('Confusion Matrix:\\n', confusion_matrix(y_true, y_pred))\n",
    "\n"
   ]
  },
  {
   "cell_type": "code",
   "execution_count": null,
   "id": "e717097f",
   "metadata": {},
   "outputs": [],
   "source": []
  }
 ],
 "metadata": {
  "kernelspec": {
   "display_name": "Python 3 (ipykernel)",
   "language": "python",
   "name": "python3"
  },
  "language_info": {
   "codemirror_mode": {
    "name": "ipython",
    "version": 3
   },
   "file_extension": ".py",
   "mimetype": "text/x-python",
   "name": "python",
   "nbconvert_exporter": "python",
   "pygments_lexer": "ipython3",
   "version": "3.9.13"
  }
 },
 "nbformat": 4,
 "nbformat_minor": 5
}
