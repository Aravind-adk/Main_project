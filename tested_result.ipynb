{
 "cells": [
  {
   "cell_type": "code",
   "execution_count": null,
   "id": "bfdc4fd7",
   "metadata": {},
   "outputs": [],
   "source": []
  },
  {
   "cell_type": "code",
   "execution_count": 42,
   "id": "6fec3264",
   "metadata": {},
   "outputs": [
    {
     "name": "stdout",
     "output_type": "stream",
     "text": [
      "1/1 [==============================] - 0s 200ms/step\n",
      "Predicted Class: Biodegradable\n"
     ]
    }
   ],
   "source": [
    "import numpy as np\n",
    "import tensorflow as tf\n",
    "from tensorflow.keras.preprocessing import image\n",
    "\n",
    "# Define the path for the new image to be classified\n",
    "new_image_path = 'C:/Users/joelb/OneDrive/Desktop/newproj/for_test/im3.jpg'\n",
    "\n",
    "# Load the new image\n",
    "new_image = image.load_img(new_image_path, target_size=(60, 60))\n",
    "\n",
    "# Convert the image to a numpy array\n",
    "new_image_array = image.img_to_array(new_image)\n",
    "\n",
    "# Preprocess the image\n",
    "new_image_array = np.expand_dims(new_image_array, axis=0)\n",
    "new_image_array /= 255.\n",
    "\n",
    "# Load the saved VGG16 model\n",
    "model = tf.keras.models.load_model('C:/Users/joelb/OneDrive/Desktop/newproj/new/model/vgg16_model.h5')\n",
    "\n",
    "# Make predictions on the new image\n",
    "predictions = model.predict(new_image_array)\n",
    "\n",
    "# Get the class label of the predicted class\n",
    "class_label = np.argmax(predictions, axis=1)\n",
    "\n",
    "# Get the class labels\n",
    "class_labels = {0: 'Biodegradable', 1: 'Non-Biodegradable'}\n",
    "\n",
    "# Print the predicted class label\n",
    "print('Predicted Class:', class_labels[class_label[0]])\n"
   ]
  },
  {
   "cell_type": "code",
   "execution_count": null,
   "id": "b3562d48",
   "metadata": {},
   "outputs": [],
   "source": []
  },
  {
   "cell_type": "code",
   "execution_count": null,
   "id": "59b34817",
   "metadata": {},
   "outputs": [],
   "source": []
  }
 ],
 "metadata": {
  "kernelspec": {
   "display_name": "Python 3 (ipykernel)",
   "language": "python",
   "name": "python3"
  },
  "language_info": {
   "codemirror_mode": {
    "name": "ipython",
    "version": 3
   },
   "file_extension": ".py",
   "mimetype": "text/x-python",
   "name": "python",
   "nbconvert_exporter": "python",
   "pygments_lexer": "ipython3",
   "version": "3.9.13"
  }
 },
 "nbformat": 4,
 "nbformat_minor": 5
}
